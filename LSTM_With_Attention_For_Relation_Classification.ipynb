{
  "nbformat": 4,
  "nbformat_minor": 0,
  "metadata": {
    "colab": {
      "name": "LSTM With Attention For Relation Classification.ipynb",
      "version": "0.3.2",
      "provenance": [],
      "toc_visible": true
    },
    "kernelspec": {
      "name": "python3",
      "display_name": "Python 3"
    }
  },
  "cells": [
    {
      "metadata": {
        "id": "ltQAiEHgiH-d",
        "colab_type": "text"
      },
      "cell_type": "markdown",
      "source": [
        "https://github.com/teffland/Relation-Extraction/tree/master/SemEval2010_task8_all_data/SemEval2010_task8_training\n",
        "\n",
        "https://www.depends-on-the-definition.com/attention-lstm-relation-classification/\n",
        "\n",
        "https://github.com/tsterbak/keras_attention\n",
        "\n",
        "https://github.com/davidsbatista/Annotated-Semantic-Relationships-Datasets\n",
        "\n",
        "https://github.com/teffland/Relation-Extraction/tree/master/SemEval2010_task8_all_data/SemEval2010_task8_training"
      ]
    },
    {
      "metadata": {
        "id": "649DI-VQtZw8",
        "colab_type": "code",
        "outputId": "bbd76a68-ec42-489c-fbfd-0e3ab871fe55",
        "colab": {
          "base_uri": "https://localhost:8080/",
          "height": 34
        }
      },
      "cell_type": "code",
      "source": [
        "from google.colab import drive\n",
        "drive.mount('/content/drive')"
      ],
      "execution_count": 0,
      "outputs": [
        {
          "output_type": "stream",
          "text": [
            "Drive already mounted at /content/drive; to attempt to forcibly remount, call drive.mount(\"/content/drive\", force_remount=True).\n"
          ],
          "name": "stdout"
        }
      ]
    },
    {
      "metadata": {
        "id": "49t7qucjqh3d",
        "colab_type": "text"
      },
      "cell_type": "markdown",
      "source": [
        "# Load Data"
      ]
    },
    {
      "metadata": {
        "id": "Ix-w9xqMV0W1",
        "colab_type": "code",
        "colab": {}
      },
      "cell_type": "code",
      "source": [
        "with open('/content/drive/My Drive/Cause_Effect/TRAIN_FILE.TXT') as f:\n",
        "    train_file = f.readlines()"
      ],
      "execution_count": 0,
      "outputs": []
    },
    {
      "metadata": {
        "id": "QNR79g4TV-CW",
        "colab_type": "code",
        "colab": {}
      },
      "cell_type": "code",
      "source": [
        "def prepare_dataset(raw):\n",
        "    sentences, relations = [], []\n",
        "    to_replace = [(\"\\\"\", \"\"), (\"\\n\", \"\"), (\"<\", \" <\"), (\">\", \"> \")]\n",
        "    last_was_sentence = False\n",
        "    for line in raw:\n",
        "        sl = line.split(\"\\t\")\n",
        "        if last_was_sentence:\n",
        "            relations.append(sl[0].split(\"(\")[0].replace(\"\\n\", \"\"))\n",
        "            last_was_sentence = False\n",
        "        if sl[0].isdigit():\n",
        "            sent = sl[1]\n",
        "            for rp in to_replace:\n",
        "                sent = sent.replace(rp[0], rp[1])\n",
        "            sentences.append(sent)\n",
        "            last_was_sentence = True\n",
        "    print(\"Found {} sentences\".format(len(sentences)))\n",
        "    return sentences, relations"
      ],
      "execution_count": 0,
      "outputs": []
    },
    {
      "metadata": {
        "id": "HczPuPxKV-FE",
        "colab_type": "code",
        "outputId": "a91d9c78-63c4-4d72-856b-9cab8a9f9ae1",
        "colab": {
          "base_uri": "https://localhost:8080/",
          "height": 34
        }
      },
      "cell_type": "code",
      "source": [
        "sentences, relations = prepare_dataset(train_file)"
      ],
      "execution_count": 0,
      "outputs": [
        {
          "output_type": "stream",
          "text": [
            "Found 8000 sentences\n"
          ],
          "name": "stdout"
        }
      ]
    },
    {
      "metadata": {
        "id": "F5wJoPRFV-Hb",
        "colab_type": "code",
        "outputId": "b63c0f93-f1fc-4d13-8bb9-30285d89de1a",
        "colab": {
          "base_uri": "https://localhost:8080/",
          "height": 54
        }
      },
      "cell_type": "code",
      "source": [
        "sentences[156]"
      ],
      "execution_count": 0,
      "outputs": [
        {
          "output_type": "execute_result",
          "data": {
            "text/plain": [
              "'For those of you who are unsure what Afrikaans is, it is a language which originated from the Dutch which were the first settlers in South Africa and the unique  <e1> language </e1>  was evolved from other  <e2> settlers </e2>  from Malaya, Indonesia, Madagascar and West Africa.'"
            ]
          },
          "metadata": {
            "tags": []
          },
          "execution_count": 5
        }
      ]
    },
    {
      "metadata": {
        "id": "ZuiaPcU1V-J0",
        "colab_type": "code",
        "outputId": "4c8255a7-7762-486a-8391-5e6a6c95cd9d",
        "colab": {
          "base_uri": "https://localhost:8080/",
          "height": 34
        }
      },
      "cell_type": "code",
      "source": [
        "relations[156]"
      ],
      "execution_count": 0,
      "outputs": [
        {
          "output_type": "execute_result",
          "data": {
            "text/plain": [
              "'Entity-Origin'"
            ]
          },
          "metadata": {
            "tags": []
          },
          "execution_count": 6
        }
      ]
    },
    {
      "metadata": {
        "id": "fQrMwfvbV-Mj",
        "colab_type": "code",
        "outputId": "04fcf715-1ede-460e-8f40-a0c38e9ff776",
        "colab": {
          "base_uri": "https://localhost:8080/",
          "height": 85
        }
      },
      "cell_type": "code",
      "source": [
        "n_relations = len(set(relations))\n",
        "print(\"Found {} relations\\n\".format(n_relations))\n",
        "print(\"Relations:\\n{}\".format(list(set(relations))))"
      ],
      "execution_count": 0,
      "outputs": [
        {
          "output_type": "stream",
          "text": [
            "Found 10 relations\n",
            "\n",
            "Relations:\n",
            "['Entity-Destination', 'Message-Topic', 'Cause-Effect', 'Instrument-Agency', 'Other', 'Product-Producer', 'Member-Collection', 'Content-Container', 'Entity-Origin', 'Component-Whole']\n"
          ],
          "name": "stdout"
        }
      ]
    },
    {
      "metadata": {
        "id": "b35BONG8V-PE",
        "colab_type": "code",
        "colab": {}
      },
      "cell_type": "code",
      "source": [
        "def call(self, h, mask=None):\n",
        "    h_shape = K.shape(h)\n",
        "    d_w, T = h_shape[0], h_shape[1]\n",
        "    \n",
        "    logits = K.dot(h, self.w)  # w^T h\n",
        "    logits = K.reshape(logits, (d_w, T))\n",
        "    alpha = K.exp(logits - K.max(logits, axis=-1, keepdims=True))  # exp\n",
        "    alpha = alpha / K.sum(alpha, axis=1, keepdims=True)  # softmax\n",
        "    r = K.sum(h * K.expand_dims(alpha), axis=1)  # r = h*alpha^T\n",
        "    h_star = K.tanh(r)  # h^* = tanh(r)\n",
        "    return h_star"
      ],
      "execution_count": 0,
      "outputs": []
    },
    {
      "metadata": {
        "id": "gXSxErG0p0OB",
        "colab_type": "text"
      },
      "cell_type": "markdown",
      "source": [
        "# Setup A Sequence Model"
      ]
    },
    {
      "metadata": {
        "id": "Og_qpTnAuNZ3",
        "colab_type": "code",
        "outputId": "f93d8a35-1ed7-479e-a418-fd02193909d9",
        "colab": {
          "base_uri": "https://localhost:8080/",
          "height": 34
        }
      },
      "cell_type": "code",
      "source": [
        "from sklearn.base import BaseEstimator, TransformerMixin\n",
        "from keras.models import Model, Input\n",
        "from keras.layers import Dense, LSTM, Dropout, Embedding, SpatialDropout1D, Bidirectional, concatenate, InputSpec\n",
        "from keras.layers import GlobalAveragePooling1D, GlobalMaxPooling1D\n",
        "from keras.optimizers import Adam, RMSprop\n",
        "from keras.preprocessing.text import Tokenizer\n",
        "from keras.preprocessing.sequence import pad_sequences\n",
        "from sklearn.metrics import accuracy_score\n",
        "from sklearn.preprocessing import MultiLabelBinarizer, LabelEncoder\n",
        "import regex as re\n",
        "import pickle\n",
        "import numpy as np\n",
        "\n",
        "from keras.engine.topology import Layer\n",
        "from keras import initializers as initializers, regularizers, constraints\n",
        "from keras import backend as K\n",
        "\n",
        "class KerasTextClassifier(BaseEstimator, TransformerMixin):\n",
        "    '''Wrapper class for keras text classification models that takes raw text as input.'''\n",
        "    \n",
        "    def __init__(self, max_words=30000, input_length=50, emb_dim=50, n_classes=10):\n",
        "        self.max_words = max_words\n",
        "        self.input_length = input_length\n",
        "        self.emb_dim = emb_dim\n",
        "        self.n_classes = n_classes\n",
        "        self.return_attention = True\n",
        "        self.model = self._get_model()\n",
        "        self.encoder = LabelEncoder()\n",
        "        self.tokenizer = Tokenizer(num_words=self.max_words+1, filters='!\"#$%&()*+,-.:;=?@[\\\\]^_`{|}~\\t\\n', lower=True, split=' ', oov_token=\"UNK\")\n",
        "    \n",
        "    def _get_model(self):\n",
        "        d = 0.5\n",
        "        rd = 0.5\n",
        "        rnn_units = 128\n",
        "        input_text = Input((self.input_length,))\n",
        "        text_embedding = Embedding(input_dim=self.max_words + 2, output_dim=self.emb_dim,\n",
        "                                   input_length=self.input_length, mask_zero=True)(input_text)\n",
        "        text_embedding = SpatialDropout1D(0.5)(text_embedding)\n",
        "        bilstm = Bidirectional(LSTM(units=rnn_units, return_sequences=True, dropout=d,\n",
        "                                    recurrent_dropout=rd))(text_embedding)\n",
        "        x, attn = AttentionWeightedAverage(return_attention=True)(bilstm)\n",
        "        x = Dropout(0.5)(x)\n",
        "        out = Dense(units=self.n_classes, activation=\"softmax\")(x)\n",
        "        model = Model(input_text, out)\n",
        "        return model\n",
        "    \n",
        "    def _get_attention_map(self, texts):\n",
        "        att_model_output = self.model.layers[0:-2]\n",
        "        att_model = Model(att_model_output[0].input, att_model_output[-1].output)\n",
        "        att_model.compile(optimizer=RMSprop(),\n",
        "                          loss=\"sparse_categorical_crossentropy\",\n",
        "                          metrics=[\"accuracy\"])\n",
        "        return att_model.predict(self._get_sequences(texts))[1]\n",
        "    \n",
        "    def _get_sequences(self, texts):\n",
        "        seqs = self.tokenizer.texts_to_sequences(texts)\n",
        "        return pad_sequences(seqs, maxlen=self.input_length,\n",
        "                             value=0, padding='post', truncating='post')\n",
        "    \n",
        "    def _labels(self, labels):\n",
        "        return self.encoder.transform(labels)\n",
        "    \n",
        "    def fit(self, X, y, X_val=None, y_val=None, lr=0.001, resume=False,\n",
        "            epochs=10, batch_size=32):\n",
        "        '''\n",
        "        Fit the vocabulary and the model.\n",
        "        \n",
        "        :params:\n",
        "        X: list of texts\n",
        "        y: labels\n",
        "        X_val: list of texts for validation\n",
        "        y_val: labels for validation.\n",
        "        '''\n",
        "        self.model.compile(optimizer=RMSprop(clipnorm=10., lr=lr),\n",
        "                           loss=\"sparse_categorical_crossentropy\",\n",
        "                           metrics=[\"accuracy\"])\n",
        "        \n",
        "        if not resume:\n",
        "            self.tokenizer.fit_on_texts(X)\n",
        "            self.encoder.fit(y)\n",
        "            self.tokenizer.word_index = {e: i for e,i in self.tokenizer.word_index.items() if i <= self.max_words}\n",
        "            self.tokenizer.word_index[self.tokenizer.oov_token] = self.max_words + 1\n",
        "        else:\n",
        "            print(\"Resuming training...\")\n",
        "        seqs = self._get_sequences(X)\n",
        "        categorical_y = self._labels(y)\n",
        "        print(\"Fit text model with {} classes\".format(len(self.encoder.classes_)))\n",
        "        if X_val:\n",
        "            val_seqs = self._get_sequences(X_val)\n",
        "            categorical_y_val = self._labels(y_val)\n",
        "            self.model.fit(seqs, categorical_y, batch_size=batch_size,\n",
        "                           epochs=epochs, validation_data=(val_seqs, categorical_y_val))\n",
        "        else:\n",
        "            self.model.fit(seqs, categorical_y, batch_size=batch_size,\n",
        "                           epochs=epochs, validation_split=0.1)\n",
        "    \n",
        "    def predict_proba(self, X, y=None):\n",
        "        return self.model.predict(self._get_sequences(X))\n",
        "    \n",
        "    def predict(self, X, y=None):\n",
        "        return np.argmax(self.predict_proba(X), axis=1)\n",
        "    \n",
        "    def save(self, path=\"model\"):                               \n",
        "        self.model.save_weights('{}_weights.h5'.format(path))          \n",
        "        with open(\"{}_index.pkl\".format(path), \"wb\") as f:                      \n",
        "            pickle.dump([self.encoder, self.tokenizer, self.max_words,\n",
        "                         self.emb_dim, self.input_length, self.n_classes], f)         \n",
        "            \n",
        "    def load(self, path=\"model\"):                                                              \n",
        "        with open(\"{}_index.pkl\".format(path), \"rb\") as f:\n",
        "            self.encoder, self.tokenizer, self.max_words, self.emb_dim, self.input_length, self.n_classes = pickle.load(f)                                                                     \n",
        "        self.model = self._get_model()                                           \n",
        "        self.model.load_weights('{}_weights.h5'.format(path))\n",
        "        \n",
        "        \n",
        "class AttentionWeightedAverage(Layer):\n",
        "    \"\"\"\n",
        "    Computes a weighted average attention mechanism from:\n",
        "        Zhou, Peng, Wei Shi, Jun Tian, Zhenyu Qi, Bingchen Li, Hongwei Hao and Bo Xu.\n",
        "        “Attention-Based Bidirectional Long Short-Term Memory Networks for Relation Classification.”\n",
        "        ACL (2016). http://www.aclweb.org/anthology/P16-2034\n",
        "    How to use:\n",
        "    see: [BLOGPOST]\n",
        "    \"\"\"\n",
        "\n",
        "    def __init__(self, return_attention=False, **kwargs):\n",
        "        self.init = initializers.get('uniform')\n",
        "        self.supports_masking = True\n",
        "        self.return_attention = return_attention\n",
        "        super(AttentionWeightedAverage, self).__init__(** kwargs)\n",
        "\n",
        "    def build(self, input_shape):\n",
        "        self.input_spec = [InputSpec(ndim=3)]\n",
        "        assert len(input_shape) == 3\n",
        "\n",
        "        self.w = self.add_weight(shape=(input_shape[2], 1),\n",
        "                                 name='{}_w'.format(self.name),\n",
        "                                 initializer=self.init)\n",
        "        self.trainable_weights = [self.w]\n",
        "        super(AttentionWeightedAverage, self).build(input_shape)\n",
        "\n",
        "    def call(self, h, mask=None):\n",
        "        h_shape = K.shape(h)\n",
        "        d_w, T = h_shape[0], h_shape[1]\n",
        "        \n",
        "        logits = K.dot(h, self.w)  # w^T h\n",
        "        logits = K.reshape(logits, (d_w, T))\n",
        "        alpha = K.exp(logits - K.max(logits, axis=-1, keepdims=True))  # exp\n",
        "        \n",
        "        # masked timesteps have zero weight\n",
        "        if mask is not None:\n",
        "            mask = K.cast(mask, K.floatx())\n",
        "            alpha = alpha * mask\n",
        "        alpha = alpha / K.sum(alpha, axis=1, keepdims=True) # softmax\n",
        "        r = K.sum(h * K.expand_dims(alpha), axis=1)  # r = h*alpha^T\n",
        "        h_star = K.tanh(r)  # h^* = tanh(r)\n",
        "        if self.return_attention:\n",
        "            return [h_star, alpha]\n",
        "        return h_star\n",
        "\n",
        "    def get_output_shape_for(self, input_shape):\n",
        "        return self.compute_output_shape(input_shape)\n",
        "\n",
        "    def compute_output_shape(self, input_shape):\n",
        "        output_len = input_shape[2]\n",
        "        if self.return_attention:\n",
        "            return [(input_shape[0], output_len), (input_shape[0], input_shape[1])]\n",
        "        return (input_shape[0], output_len)\n",
        "\n",
        "    def compute_mask(self, input, input_mask=None):\n",
        "        if isinstance(input_mask, list):\n",
        "            return [None] * len(input_mask)\n",
        "        else:\n",
        "            return None"
      ],
      "execution_count": 0,
      "outputs": [
        {
          "output_type": "stream",
          "text": [
            "Using TensorFlow backend.\n"
          ],
          "name": "stderr"
        }
      ]
    },
    {
      "metadata": {
        "id": "dcshKHHhprhy",
        "colab_type": "code",
        "colab": {}
      },
      "cell_type": "code",
      "source": [
        "import numpy as np\n",
        "from sklearn.model_selection import train_test_split"
      ],
      "execution_count": 0,
      "outputs": []
    },
    {
      "metadata": {
        "id": "KxDcBgZGprky",
        "colab_type": "code",
        "outputId": "b447627a-86f2-414b-b487-dfbaf0b1c357",
        "colab": {
          "base_uri": "https://localhost:8080/",
          "height": 139
        }
      },
      "cell_type": "code",
      "source": [
        "kclf = KerasTextClassifier(input_length=50, n_classes=n_relations, max_words=15000)"
      ],
      "execution_count": 0,
      "outputs": [
        {
          "output_type": "stream",
          "text": [
            "WARNING:tensorflow:From /usr/local/lib/python3.6/dist-packages/tensorflow/python/framework/op_def_library.py:263: colocate_with (from tensorflow.python.framework.ops) is deprecated and will be removed in a future version.\n",
            "Instructions for updating:\n",
            "Colocations handled automatically by placer.\n",
            "WARNING:tensorflow:From /usr/local/lib/python3.6/dist-packages/keras/backend/tensorflow_backend.py:3445: calling dropout (from tensorflow.python.ops.nn_ops) with keep_prob is deprecated and will be removed in a future version.\n",
            "Instructions for updating:\n",
            "Please use `rate` instead of `keep_prob`. Rate should be set to `rate = 1 - keep_prob`.\n"
          ],
          "name": "stdout"
        }
      ]
    },
    {
      "metadata": {
        "id": "LB2kMSFKprni",
        "colab_type": "code",
        "colab": {}
      },
      "cell_type": "code",
      "source": [
        "tr_sent, te_sent, tr_rel, te_rel = train_test_split(sentences, relations, test_size=0.1)"
      ],
      "execution_count": 0,
      "outputs": []
    },
    {
      "metadata": {
        "id": "uZS4zth5prp9",
        "colab_type": "code",
        "outputId": "0d8210b8-1f97-46f4-b666-ddcd342a493a",
        "colab": {
          "base_uri": "https://localhost:8080/",
          "height": 853
        }
      },
      "cell_type": "code",
      "source": [
        "kclf.fit(X=tr_sent, y=tr_rel, X_val=te_sent, y_val=te_rel,\n",
        "         batch_size=10, lr=0.001, epochs=20)"
      ],
      "execution_count": 0,
      "outputs": [
        {
          "output_type": "stream",
          "text": [
            "Fit text model with 10 classes\n",
            "WARNING:tensorflow:From /usr/local/lib/python3.6/dist-packages/tensorflow/python/ops/math_ops.py:3066: to_int32 (from tensorflow.python.ops.math_ops) is deprecated and will be removed in a future version.\n",
            "Instructions for updating:\n",
            "Use tf.cast instead.\n",
            "WARNING:tensorflow:From /usr/local/lib/python3.6/dist-packages/tensorflow/python/ops/math_grad.py:102: div (from tensorflow.python.ops.math_ops) is deprecated and will be removed in a future version.\n",
            "Instructions for updating:\n",
            "Deprecated in favor of operator or tf.math.divide.\n",
            "Train on 7200 samples, validate on 800 samples\n",
            "Epoch 1/20\n",
            "7200/7200 [==============================] - 84s 12ms/step - loss: 2.1416 - acc: 0.2254 - val_loss: 1.8688 - val_acc: 0.3300\n",
            "Epoch 2/20\n",
            "7200/7200 [==============================] - 82s 11ms/step - loss: 1.8603 - acc: 0.3267 - val_loss: 1.6375 - val_acc: 0.4238\n",
            "Epoch 3/20\n",
            "7200/7200 [==============================] - 81s 11ms/step - loss: 1.6610 - acc: 0.4019 - val_loss: 1.5092 - val_acc: 0.4475\n",
            "Epoch 4/20\n",
            "7200/7200 [==============================] - 82s 11ms/step - loss: 1.5400 - acc: 0.4403 - val_loss: 1.4122 - val_acc: 0.4800\n",
            "Epoch 5/20\n",
            "7200/7200 [==============================] - 82s 11ms/step - loss: 1.3978 - acc: 0.4918 - val_loss: 1.3811 - val_acc: 0.5138\n",
            "Epoch 6/20\n",
            "7200/7200 [==============================] - 82s 11ms/step - loss: 1.3143 - acc: 0.5318 - val_loss: 1.3050 - val_acc: 0.5438\n",
            "Epoch 7/20\n",
            "7200/7200 [==============================] - 82s 11ms/step - loss: 1.2241 - acc: 0.5682 - val_loss: 1.2563 - val_acc: 0.5688\n",
            "Epoch 8/20\n",
            "7200/7200 [==============================] - 81s 11ms/step - loss: 1.1266 - acc: 0.5990 - val_loss: 1.2077 - val_acc: 0.6088\n",
            "Epoch 9/20\n",
            "7200/7200 [==============================] - 81s 11ms/step - loss: 1.0627 - acc: 0.6328 - val_loss: 1.1729 - val_acc: 0.6013\n",
            "Epoch 10/20\n",
            "7200/7200 [==============================] - 82s 11ms/step - loss: 0.9841 - acc: 0.6610 - val_loss: 1.1213 - val_acc: 0.6375\n",
            "Epoch 11/20\n",
            "7200/7200 [==============================] - 81s 11ms/step - loss: 0.9117 - acc: 0.6821 - val_loss: 1.1429 - val_acc: 0.6288\n",
            "Epoch 12/20\n",
            "7200/7200 [==============================] - 81s 11ms/step - loss: 0.8521 - acc: 0.7094 - val_loss: 1.1472 - val_acc: 0.6313\n",
            "Epoch 13/20\n",
            "7200/7200 [==============================] - 82s 11ms/step - loss: 0.7937 - acc: 0.7329 - val_loss: 1.1182 - val_acc: 0.6413\n",
            "Epoch 14/20\n",
            "7200/7200 [==============================] - 81s 11ms/step - loss: 0.7497 - acc: 0.7396 - val_loss: 1.1342 - val_acc: 0.6425\n",
            "Epoch 15/20\n",
            "7200/7200 [==============================] - 80s 11ms/step - loss: 0.6967 - acc: 0.7626 - val_loss: 1.1655 - val_acc: 0.6275\n",
            "Epoch 16/20\n",
            "7200/7200 [==============================] - 80s 11ms/step - loss: 0.6653 - acc: 0.7756 - val_loss: 1.1224 - val_acc: 0.6300\n",
            "Epoch 17/20\n",
            "7200/7200 [==============================] - 80s 11ms/step - loss: 0.6254 - acc: 0.7900 - val_loss: 1.1658 - val_acc: 0.6625\n",
            "Epoch 18/20\n",
            "7200/7200 [==============================] - 81s 11ms/step - loss: 0.5860 - acc: 0.8019 - val_loss: 1.1922 - val_acc: 0.6600\n",
            "Epoch 19/20\n",
            "7200/7200 [==============================] - 81s 11ms/step - loss: 0.5636 - acc: 0.8140 - val_loss: 1.1573 - val_acc: 0.6613\n",
            "Epoch 20/20\n",
            "7200/7200 [==============================] - 80s 11ms/step - loss: 0.5332 - acc: 0.8244 - val_loss: 1.1879 - val_acc: 0.6538\n"
          ],
          "name": "stdout"
        }
      ]
    },
    {
      "metadata": {
        "id": "nLqIBtR3p7zQ",
        "colab_type": "text"
      },
      "cell_type": "markdown",
      "source": [
        "# Investigate Attention"
      ]
    },
    {
      "metadata": {
        "id": "ND4zPKtnprsq",
        "colab_type": "code",
        "colab": {}
      },
      "cell_type": "code",
      "source": [
        "import matplotlib.pyplot as plt\n",
        "plt.style.use(\"ggplot\")\n",
        "%matplotlib inline"
      ],
      "execution_count": 0,
      "outputs": []
    },
    {
      "metadata": {
        "id": "1Fao4AX9prvO",
        "colab_type": "code",
        "colab": {}
      },
      "cell_type": "code",
      "source": [
        "y_pred = kclf.predict(te_sent)\n",
        "y_attn = kclf._get_attention_map(te_sent)"
      ],
      "execution_count": 0,
      "outputs": []
    },
    {
      "metadata": {
        "id": "jcqeh0bUprxq",
        "colab_type": "code",
        "outputId": "3e3892e2-d5e1-48d5-8be7-9092d05cda79",
        "colab": {
          "base_uri": "https://localhost:8080/",
          "height": 619
        }
      },
      "cell_type": "code",
      "source": [
        "i = 354\n",
        "activation_map = np.expand_dims(y_attn[i][:len(te_sent[i].split())], axis=1)\n",
        "\n",
        "f = plt.figure(figsize=(8, 8))\n",
        "ax = f.add_subplot(1, 1, 1)\n",
        "\n",
        "img = ax.imshow(activation_map, interpolation='none', cmap='gray')\n",
        "\n",
        "plt.xlim([0,0.5])\n",
        "ax.set_aspect(0.1)\n",
        "ax.set_yticks(range(len(te_sent[i].split())))\n",
        "ax.set_yticklabels(te_sent[i].split());\n",
        "ax.grid()\n",
        "plt.title(\"Attention map of sample {}\\nTrue relation: {}\\nPredicted relation: {}\"\n",
        "          .format(i, te_rel[i], kclf.encoder.classes_[y_pred[i]]));\n",
        "\n",
        "# add colorbar\n",
        "cbaxes = f.add_axes([0.2, 0, 0.6, 0.03]);\n",
        "cbar = f.colorbar(img, cax=cbaxes, orientation='horizontal');\n",
        "cbar.ax.set_xlabel('Probability', labelpad=2);"
      ],
      "execution_count": 0,
      "outputs": [
        {
          "output_type": "display_data",
          "data": {
            "image/png": "[encoded data removed]",
            "text/plain": [
              "<Figure size 576x576 with 2 Axes>"
            ]
          },
          "metadata": {
            "tags": []
          }
        }
      ]
    },
    {
      "metadata": {
        "id": "fhcb7olwqK0N",
        "colab_type": "text"
      },
      "cell_type": "markdown",
      "source": [
        "# Evaluate The Model"
      ]
    },
    {
      "metadata": {
        "id": "_CGid0LiqJ0D",
        "colab_type": "code",
        "colab": {}
      },
      "cell_type": "code",
      "source": [
        "from sklearn.metrics import f1_score, classification_report, accuracy_score"
      ],
      "execution_count": 0,
      "outputs": []
    },
    {
      "metadata": {
        "id": "F3Hax-uiqJ43",
        "colab_type": "code",
        "colab": {}
      },
      "cell_type": "code",
      "source": [
        "y_test_pred = kclf.predict(te_sent)"
      ],
      "execution_count": 0,
      "outputs": []
    },
    {
      "metadata": {
        "id": "j0hLVDwzqJ7f",
        "colab_type": "code",
        "colab": {}
      },
      "cell_type": "code",
      "source": [
        "label_idx_to_use = [i for i, c in enumerate(list(kclf.encoder.classes_)) if  c !=\"Other\"]\n",
        "label_to_use = list(kclf.encoder.classes_)\n",
        "label_to_use.remove(\"Other\")"
      ],
      "execution_count": 0,
      "outputs": []
    },
    {
      "metadata": {
        "id": "i8dSwvcUqJ-E",
        "colab_type": "code",
        "outputId": "8f8ecfd3-ba9e-4872-a4d1-613efc665366",
        "colab": {
          "base_uri": "https://localhost:8080/",
          "height": 34
        }
      },
      "cell_type": "code",
      "source": [
        "print(\"F1-Score: {:.1%}\".format(f1_score(kclf.encoder.transform(te_rel), y_test_pred, average=\"macro\", labels=label_idx_to_use)))"
      ],
      "execution_count": 0,
      "outputs": [
        {
          "output_type": "stream",
          "text": [
            "F1-Score: 69.9%\n"
          ],
          "name": "stdout"
        }
      ]
    },
    {
      "metadata": {
        "id": "4K5WwxBbqKAt",
        "colab_type": "code",
        "outputId": "300ac512-9e35-443c-aa77-a4aeba436263",
        "colab": {
          "base_uri": "https://localhost:8080/",
          "height": 289
        }
      },
      "cell_type": "code",
      "source": [
        "print(classification_report(kclf.encoder.transform(te_rel), y_test_pred, target_names=label_to_use, labels=label_idx_to_use))"
      ],
      "execution_count": 0,
      "outputs": [
        {
          "output_type": "stream",
          "text": [
            "                    precision    recall  f1-score   support\n",
            "\n",
            "      Cause-Effect       0.84      0.77      0.80       101\n",
            "   Component-Whole       0.59      0.62      0.60        97\n",
            " Content-Container       0.81      0.67      0.73        51\n",
            "Entity-Destination       0.80      0.90      0.85        94\n",
            "     Entity-Origin       0.70      0.76      0.73        68\n",
            " Instrument-Agency       0.57      0.68      0.62        47\n",
            " Member-Collection       0.89      0.72      0.80        69\n",
            "     Message-Topic       0.54      0.56      0.55        52\n",
            "  Product-Producer       0.53      0.71      0.60        68\n",
            "\n",
            "         micro avg       0.69      0.72      0.71       647\n",
            "         macro avg       0.70      0.71      0.70       647\n",
            "      weighted avg       0.71      0.72      0.71       647\n",
            "\n"
          ],
          "name": "stdout"
        }
      ]
    }
  ]
}